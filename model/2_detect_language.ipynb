{
 "cells": [
  {
   "cell_type": "code",
   "execution_count": 8,
   "metadata": {
    "collapsed": true
   },
   "outputs": [],
   "source": [
    "import pandas as pd\n",
    "from py3langid.langid import LanguageIdentifier, MODEL_FILE\n",
    "from langdetect import detect, detect_langs"
   ]
  },
  {
   "cell_type": "code",
   "execution_count": 9,
   "outputs": [],
   "source": [
    "df = pd.read_csv(\"train_input_data_pl_and_eng.csv\")\n",
    "df = df.dropna()\n",
    "df['words_count'] = df[\"text\"].apply(lambda text: len(text.split()))"
   ],
   "metadata": {
    "collapsed": false
   }
  },
  {
   "cell_type": "code",
   "execution_count": 10,
   "outputs": [
    {
     "data": {
      "text/plain": "                                                filename  \\\n0      test_hashed\\pit37_v1\\9d6f61c6-52ad-4546-85b7-b...   \n1      test_hashed\\pit37_v1\\f14ea197-70bd-45ae-9a22-d...   \n2      test_hashed\\pit37_v1\\070a521a-7038-4551-bc6a-b...   \n3      test_hashed\\pit37_v1\\f4d15b30-6e96-4452-b614-a...   \n4      test_hashed\\pit37_v1\\64d085a8-39a0-4887-859e-8...   \n...                                                  ...   \n10844          8a1bb716-156c-4eca-a8cd-f726a5cf7032.tiff   \n10845          e42169d6-f1c4-416a-a7eb-4fc90fd3c086.tiff   \n10846          9807fe93-30d5-422b-8844-fd16529c8e7d.tiff   \n10847          e7eac2d5-364d-4f82-bb9d-354f11159a51.tiff   \n10848          143d2d22-378e-4595-a0e4-a4d02f60ec3a.tiff   \n\n                                                    text          label  \\\n0      pola lalwe poda podatnik pola ciemne urzad nip...       pit37_v1   \n1      pltaxpl poua wypelnia podatnik pola ciemne wyp...       pit37_v1   \n2      mypfenl wypelnic dulymi daukowanluiteram clrny...       pit37_v1   \n3      pltaxpl pola jasne wypełnia podatnik pola ciem...       pit37_v1   \n4      pitaxpl la jash€ wypelnia poditńik pcu ciemne ...       pit37_v1   \n...                                                  ...            ...   \n10844  msds z ello arte-vewaa were hkc hm c izod rory...  specification   \n10845  june appearance colorless clear mobile liquid ...  specification   \n10846  pull mailfile request to bagby rjr july for a ...           form   \n10847  tclecen saj co z rh cam bt meaured ja approval...    handwritten   \n10848  oy stat ed mey fot postu firtt licd ncicc is i...  advertisement   \n\n       label_id  words_count lang  \n0            10          361   pl  \n1            10          360   pl  \n2            10          321   pl  \n3            10          374   pl  \n4            10          331   pl  \n...         ...          ...  ...  \n10844        17          113   en  \n10845        17          162   en  \n10846         4           85   en  \n10847         5           61   en  \n10848         0           30   en  \n\n[10518 rows x 6 columns]",
      "text/html": "<div>\n<style scoped>\n    .dataframe tbody tr th:only-of-type {\n        vertical-align: middle;\n    }\n\n    .dataframe tbody tr th {\n        vertical-align: top;\n    }\n\n    .dataframe thead th {\n        text-align: right;\n    }\n</style>\n<table border=\"1\" class=\"dataframe\">\n  <thead>\n    <tr style=\"text-align: right;\">\n      <th></th>\n      <th>filename</th>\n      <th>text</th>\n      <th>label</th>\n      <th>label_id</th>\n      <th>words_count</th>\n      <th>lang</th>\n    </tr>\n  </thead>\n  <tbody>\n    <tr>\n      <th>0</th>\n      <td>test_hashed\\pit37_v1\\9d6f61c6-52ad-4546-85b7-b...</td>\n      <td>pola lalwe poda podatnik pola ciemne urzad nip...</td>\n      <td>pit37_v1</td>\n      <td>10</td>\n      <td>361</td>\n      <td>pl</td>\n    </tr>\n    <tr>\n      <th>1</th>\n      <td>test_hashed\\pit37_v1\\f14ea197-70bd-45ae-9a22-d...</td>\n      <td>pltaxpl poua wypelnia podatnik pola ciemne wyp...</td>\n      <td>pit37_v1</td>\n      <td>10</td>\n      <td>360</td>\n      <td>pl</td>\n    </tr>\n    <tr>\n      <th>2</th>\n      <td>test_hashed\\pit37_v1\\070a521a-7038-4551-bc6a-b...</td>\n      <td>mypfenl wypelnic dulymi daukowanluiteram clrny...</td>\n      <td>pit37_v1</td>\n      <td>10</td>\n      <td>321</td>\n      <td>pl</td>\n    </tr>\n    <tr>\n      <th>3</th>\n      <td>test_hashed\\pit37_v1\\f4d15b30-6e96-4452-b614-a...</td>\n      <td>pltaxpl pola jasne wypełnia podatnik pola ciem...</td>\n      <td>pit37_v1</td>\n      <td>10</td>\n      <td>374</td>\n      <td>pl</td>\n    </tr>\n    <tr>\n      <th>4</th>\n      <td>test_hashed\\pit37_v1\\64d085a8-39a0-4887-859e-8...</td>\n      <td>pitaxpl la jash€ wypelnia poditńik pcu ciemne ...</td>\n      <td>pit37_v1</td>\n      <td>10</td>\n      <td>331</td>\n      <td>pl</td>\n    </tr>\n    <tr>\n      <th>...</th>\n      <td>...</td>\n      <td>...</td>\n      <td>...</td>\n      <td>...</td>\n      <td>...</td>\n      <td>...</td>\n    </tr>\n    <tr>\n      <th>10844</th>\n      <td>8a1bb716-156c-4eca-a8cd-f726a5cf7032.tiff</td>\n      <td>msds z ello arte-vewaa were hkc hm c izod rory...</td>\n      <td>specification</td>\n      <td>17</td>\n      <td>113</td>\n      <td>en</td>\n    </tr>\n    <tr>\n      <th>10845</th>\n      <td>e42169d6-f1c4-416a-a7eb-4fc90fd3c086.tiff</td>\n      <td>june appearance colorless clear mobile liquid ...</td>\n      <td>specification</td>\n      <td>17</td>\n      <td>162</td>\n      <td>en</td>\n    </tr>\n    <tr>\n      <th>10846</th>\n      <td>9807fe93-30d5-422b-8844-fd16529c8e7d.tiff</td>\n      <td>pull mailfile request to bagby rjr july for a ...</td>\n      <td>form</td>\n      <td>4</td>\n      <td>85</td>\n      <td>en</td>\n    </tr>\n    <tr>\n      <th>10847</th>\n      <td>e7eac2d5-364d-4f82-bb9d-354f11159a51.tiff</td>\n      <td>tclecen saj co z rh cam bt meaured ja approval...</td>\n      <td>handwritten</td>\n      <td>5</td>\n      <td>61</td>\n      <td>en</td>\n    </tr>\n    <tr>\n      <th>10848</th>\n      <td>143d2d22-378e-4595-a0e4-a4d02f60ec3a.tiff</td>\n      <td>oy stat ed mey fot postu firtt licd ncicc is i...</td>\n      <td>advertisement</td>\n      <td>0</td>\n      <td>30</td>\n      <td>en</td>\n    </tr>\n  </tbody>\n</table>\n<p>10518 rows × 6 columns</p>\n</div>"
     },
     "execution_count": 10,
     "metadata": {},
     "output_type": "execute_result"
    }
   ],
   "source": [
    "identifier = LanguageIdentifier.from_pickled_model(MODEL_FILE)\n",
    "identifier.set_languages(['pl', 'en'])\n",
    "df[\"lang\"] = df[\"text\"].apply(lambda text: identifier.classify(text)[0])\n",
    "df"
   ],
   "metadata": {
    "collapsed": false
   }
  },
  {
   "cell_type": "code",
   "execution_count": 10,
   "outputs": [],
   "source": [],
   "metadata": {
    "collapsed": false
   }
  }
 ],
 "metadata": {
  "kernelspec": {
   "display_name": "Python 3",
   "language": "python",
   "name": "python3"
  },
  "language_info": {
   "codemirror_mode": {
    "name": "ipython",
    "version": 2
   },
   "file_extension": ".py",
   "mimetype": "text/x-python",
   "name": "python",
   "nbconvert_exporter": "python",
   "pygments_lexer": "ipython2",
   "version": "2.7.6"
  }
 },
 "nbformat": 4,
 "nbformat_minor": 0
}
