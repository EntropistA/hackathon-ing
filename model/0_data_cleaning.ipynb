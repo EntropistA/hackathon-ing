{
 "cells": [
  {
   "cell_type": "code",
   "execution_count": 19,
   "metadata": {
    "collapsed": true
   },
   "outputs": [],
   "source": [
    "import json\n",
    "\n",
    "import pandas as pd"
   ]
  },
  {
   "cell_type": "code",
   "execution_count": 20,
   "outputs": [
    {
     "data": {
      "text/plain": "                                                       0   \n0      test_hashed\\pit37_v1\\9d6f61c6-52ad-4546-85b7-b...  \\\n1      test_hashed\\pit37_v1\\f14ea197-70bd-45ae-9a22-d...   \n2      test_hashed\\pit37_v1\\070a521a-7038-4551-bc6a-b...   \n3      test_hashed\\pit37_v1\\f4d15b30-6e96-4452-b614-a...   \n4      test_hashed\\pit37_v1\\64d085a8-39a0-4887-859e-8...   \n...                                                  ...   \n10879  ./test_hashed/specification/8a1bb716-156c-4eca...   \n10880  ./test_hashed/specification/e42169d6-f1c4-416a...   \n10881  ./test_hashed/form/9807fe93-30d5-422b-8844-fd1...   \n10882  ./test_hashed/handwritten/e7eac2d5-364d-4f82-b...   \n10883  ./test_hashed/advertisement/143d2d22-378e-4595...   \n\n                                                       1  \n0      POLA Lalwe poda PODATNIK POLA , CIEMNE _ URZAD...  \n1      PlTaxpl POUA 'WYPELNIA PODATNIK POLA CIEMNE WY...  \n2      MyPfenl Wypelnic DulyMi DaukowanlUiTERAM ClRnY...  \n3      PlTaxpl POLA JASNE WYPEŁNIA PODATNIK _POLA CIE...  \n4      PITaxpl LA Jash€ WyPelNIA PODiTŃIK PCU CieMne ...  \n...                                                  ...  \n10879  MSDS 002z4 Ello ~arte-Vewaa @WEre Hkc hm2 \"7c0...  \n10880  June 1992 40 03-540 Appearance: Colorless, cle...  \n10881  PULL MAILFILE REQUEST TO: Bagby RJR-10301 July...  \n10882  ~Tclecen 8/23/38 SAJ Co z & RH cam bt meaured ...  \n10883  oy Stat Ed8 Mey Fot Postu Firtt LICd- ncicc 41...  \n\n[10884 rows x 2 columns]",
      "text/html": "<div>\n<style scoped>\n    .dataframe tbody tr th:only-of-type {\n        vertical-align: middle;\n    }\n\n    .dataframe tbody tr th {\n        vertical-align: top;\n    }\n\n    .dataframe thead th {\n        text-align: right;\n    }\n</style>\n<table border=\"1\" class=\"dataframe\">\n  <thead>\n    <tr style=\"text-align: right;\">\n      <th></th>\n      <th>0</th>\n      <th>1</th>\n    </tr>\n  </thead>\n  <tbody>\n    <tr>\n      <th>0</th>\n      <td>test_hashed\\pit37_v1\\9d6f61c6-52ad-4546-85b7-b...</td>\n      <td>POLA Lalwe poda PODATNIK POLA , CIEMNE _ URZAD...</td>\n    </tr>\n    <tr>\n      <th>1</th>\n      <td>test_hashed\\pit37_v1\\f14ea197-70bd-45ae-9a22-d...</td>\n      <td>PlTaxpl POUA 'WYPELNIA PODATNIK POLA CIEMNE WY...</td>\n    </tr>\n    <tr>\n      <th>2</th>\n      <td>test_hashed\\pit37_v1\\070a521a-7038-4551-bc6a-b...</td>\n      <td>MyPfenl Wypelnic DulyMi DaukowanlUiTERAM ClRnY...</td>\n    </tr>\n    <tr>\n      <th>3</th>\n      <td>test_hashed\\pit37_v1\\f4d15b30-6e96-4452-b614-a...</td>\n      <td>PlTaxpl POLA JASNE WYPEŁNIA PODATNIK _POLA CIE...</td>\n    </tr>\n    <tr>\n      <th>4</th>\n      <td>test_hashed\\pit37_v1\\64d085a8-39a0-4887-859e-8...</td>\n      <td>PITaxpl LA Jash€ WyPelNIA PODiTŃIK PCU CieMne ...</td>\n    </tr>\n    <tr>\n      <th>...</th>\n      <td>...</td>\n      <td>...</td>\n    </tr>\n    <tr>\n      <th>10879</th>\n      <td>./test_hashed/specification/8a1bb716-156c-4eca...</td>\n      <td>MSDS 002z4 Ello ~arte-Vewaa @WEre Hkc hm2 \"7c0...</td>\n    </tr>\n    <tr>\n      <th>10880</th>\n      <td>./test_hashed/specification/e42169d6-f1c4-416a...</td>\n      <td>June 1992 40 03-540 Appearance: Colorless, cle...</td>\n    </tr>\n    <tr>\n      <th>10881</th>\n      <td>./test_hashed/form/9807fe93-30d5-422b-8844-fd1...</td>\n      <td>PULL MAILFILE REQUEST TO: Bagby RJR-10301 July...</td>\n    </tr>\n    <tr>\n      <th>10882</th>\n      <td>./test_hashed/handwritten/e7eac2d5-364d-4f82-b...</td>\n      <td>~Tclecen 8/23/38 SAJ Co z &amp; RH cam bt meaured ...</td>\n    </tr>\n    <tr>\n      <th>10883</th>\n      <td>./test_hashed/advertisement/143d2d22-378e-4595...</td>\n      <td>oy Stat Ed8 Mey Fot Postu Firtt LICd- ncicc 41...</td>\n    </tr>\n  </tbody>\n</table>\n<p>10884 rows × 2 columns</p>\n</div>"
     },
     "execution_count": 20,
     "metadata": {},
     "output_type": "execute_result"
    }
   ],
   "source": [
    "def read_json(filename):\n",
    "    with open(filename, encoding=\"UTF-8\") as f:\n",
    "        return list(json.load(f).items())\n",
    "pd.DataFrame(read_json(\"input_data/train_set_ocr.json\"))"
   ],
   "metadata": {
    "collapsed": false
   }
  },
  {
   "cell_type": "code",
   "execution_count": 21,
   "outputs": [
    {
     "data": {
      "text/plain": "'./test_hashed/advertisement/00133f89-017d-44f5-a549-e11cf5b5221a.tiff'"
     },
     "execution_count": 21,
     "metadata": {},
     "output_type": "execute_result"
    }
   ],
   "source": [
    "def get_filename_hash(filename, separator):\n",
    "    return filename[filename.rindex(separator) + 1:] if separator in filename else filename\n",
    "get_filename_hash(\"./test_hashed/advertisement/00133f89-017d-44f5-a549-e11cf5b5221a.tiff\", \"//\")"
   ],
   "metadata": {
    "collapsed": false
   }
  },
  {
   "cell_type": "code",
   "execution_count": 22,
   "outputs": [],
   "source": [
    "label_to_label_id =  pd.read_pickle('input_data/id2label_final.pkl')"
   ],
   "metadata": {
    "collapsed": false
   }
  },
  {
   "cell_type": "code",
   "execution_count": 23,
   "outputs": [],
   "source": [
    "filename_hash_to_label = {get_filename_hash(key, separator=\"/\"): value for key, value in read_json(\"input_data/train_labels_final.json\")}"
   ],
   "metadata": {
    "collapsed": false
   }
  },
  {
   "cell_type": "markdown",
   "source": [
    "## Add label and label_id"
   ],
   "metadata": {
    "collapsed": false
   }
  },
  {
   "cell_type": "code",
   "execution_count": 24,
   "outputs": [
    {
     "name": "stdout",
     "output_type": "stream",
     "text": [
      "Not found: 35\n",
      "<class 'pandas.core.frame.DataFrame'>\n",
      "Index: 10849 entries, 0 to 10883\n",
      "Data columns (total 4 columns):\n",
      " #   Column    Non-Null Count  Dtype   \n",
      "---  ------    --------------  -----   \n",
      " 0   filename  10849 non-null  object  \n",
      " 1   text      10849 non-null  object  \n",
      " 2   label     10849 non-null  category\n",
      " 3   label_id  10849 non-null  category\n",
      "dtypes: category(2), object(2)\n",
      "memory usage: 276.9+ KB\n"
     ]
    },
    {
     "data": {
      "text/plain": "                                            filename   \n0  test_hashed\\pit37_v1\\9d6f61c6-52ad-4546-85b7-b...  \\\n1  test_hashed\\pit37_v1\\f14ea197-70bd-45ae-9a22-d...   \n2  test_hashed\\pit37_v1\\070a521a-7038-4551-bc6a-b...   \n3  test_hashed\\pit37_v1\\f4d15b30-6e96-4452-b614-a...   \n4  test_hashed\\pit37_v1\\64d085a8-39a0-4887-859e-8...   \n\n                                                text     label label_id  \n0  POLA Lalwe poda PODATNIK POLA , CIEMNE _ URZAD...  pit37_v1       10  \n1  PlTaxpl POUA 'WYPELNIA PODATNIK POLA CIEMNE WY...  pit37_v1       10  \n2  MyPfenl Wypelnic DulyMi DaukowanlUiTERAM ClRnY...  pit37_v1       10  \n3  PlTaxpl POLA JASNE WYPEŁNIA PODATNIK _POLA CIE...  pit37_v1       10  \n4  PITaxpl LA Jash€ WyPelNIA PODiTŃIK PCU CieMne ...  pit37_v1       10  ",
      "text/html": "<div>\n<style scoped>\n    .dataframe tbody tr th:only-of-type {\n        vertical-align: middle;\n    }\n\n    .dataframe tbody tr th {\n        vertical-align: top;\n    }\n\n    .dataframe thead th {\n        text-align: right;\n    }\n</style>\n<table border=\"1\" class=\"dataframe\">\n  <thead>\n    <tr style=\"text-align: right;\">\n      <th></th>\n      <th>filename</th>\n      <th>text</th>\n      <th>label</th>\n      <th>label_id</th>\n    </tr>\n  </thead>\n  <tbody>\n    <tr>\n      <th>0</th>\n      <td>test_hashed\\pit37_v1\\9d6f61c6-52ad-4546-85b7-b...</td>\n      <td>POLA Lalwe poda PODATNIK POLA , CIEMNE _ URZAD...</td>\n      <td>pit37_v1</td>\n      <td>10</td>\n    </tr>\n    <tr>\n      <th>1</th>\n      <td>test_hashed\\pit37_v1\\f14ea197-70bd-45ae-9a22-d...</td>\n      <td>PlTaxpl POUA 'WYPELNIA PODATNIK POLA CIEMNE WY...</td>\n      <td>pit37_v1</td>\n      <td>10</td>\n    </tr>\n    <tr>\n      <th>2</th>\n      <td>test_hashed\\pit37_v1\\070a521a-7038-4551-bc6a-b...</td>\n      <td>MyPfenl Wypelnic DulyMi DaukowanlUiTERAM ClRnY...</td>\n      <td>pit37_v1</td>\n      <td>10</td>\n    </tr>\n    <tr>\n      <th>3</th>\n      <td>test_hashed\\pit37_v1\\f4d15b30-6e96-4452-b614-a...</td>\n      <td>PlTaxpl POLA JASNE WYPEŁNIA PODATNIK _POLA CIE...</td>\n      <td>pit37_v1</td>\n      <td>10</td>\n    </tr>\n    <tr>\n      <th>4</th>\n      <td>test_hashed\\pit37_v1\\64d085a8-39a0-4887-859e-8...</td>\n      <td>PITaxpl LA Jash€ WyPelNIA PODiTŃIK PCU CieMne ...</td>\n      <td>pit37_v1</td>\n      <td>10</td>\n    </tr>\n  </tbody>\n</table>\n</div>"
     },
     "execution_count": 24,
     "metadata": {},
     "output_type": "execute_result"
    }
   ],
   "source": [
    "# ./test_hashed/.ipynb_checkpoints/18d1aa9b-c3cf-41e3-95db-bd668ada2000.tiff in input_data/train_set_ocr.json\n",
    "\n",
    "train_dataset = pd.DataFrame(read_json(\"input_data/train_set_ocr.json\"), columns=\"filename text\".split()).rename({\"index\": \"filename\"}, axis=1)\n",
    "train_dataset[\"filename\"] = train_dataset[\"filename\"].apply(get_filename_hash, args=[\"/\"])\n",
    "\n",
    "not_found = []\n",
    "for filename in train_dataset[\"filename\"]:\n",
    "    if filename not in filename_hash_to_label:\n",
    "        not_found.append(filename)\n",
    "print(f\"Not found: {len(not_found)}\")\n",
    "train_dataset = train_dataset[~train_dataset[\"filename\"].isin(not_found)]\n",
    "\n",
    "train_dataset[\"label\"] = train_dataset[\"filename\"].apply(lambda f: filename_hash_to_label[f]).astype(\"category\")\n",
    "train_dataset[\"label_id\"] = train_dataset[\"label\"].apply(lambda l: label_to_label_id[l]).astype(\"category\")\n",
    "train_dataset.info()\n",
    "\n",
    "assert all(label in label_to_label_id for label in train_dataset[\"label\"].to_list())\n",
    "\n",
    "train_dataset.head()"
   ],
   "metadata": {
    "collapsed": false
   }
  },
  {
   "cell_type": "code",
   "execution_count": 25,
   "outputs": [
    {
     "data": {
      "text/plain": "label                                       label_id\nhandwritten                                 5           618\npresentation                                12          592\nscientific_report                           16          584\nadvertisement                               0           580\nscientific_publication                      15          577\nfile_folder                                 3           566\nform                                        4           566\nresume                                      14          565\nemail                                       2           563\nmemo                                        8           558\nbudget                                      1           556\ninvoice                                     6           555\nletter                                      7           551\nquestionnaire                               13          551\nspecification                               17          529\nnews_article                                9           503\npit37_v1                                    10          400\numowa_na_odleglosc_odstapienie              18          390\numowa_sprzedazy_samochodu                   20          377\numowa_o_dzielo                              19          373\npozwolenie_uzytkowanie_obiektu_budowlanego  11          295\nName: count, dtype: int64"
     },
     "execution_count": 25,
     "metadata": {},
     "output_type": "execute_result"
    }
   ],
   "source": [
    "train_dataset[[\"label\", \"label_id\"]].value_counts()"
   ],
   "metadata": {
    "collapsed": false
   }
  },
  {
   "cell_type": "code",
   "execution_count": 26,
   "outputs": [
    {
     "name": "stdout",
     "output_type": "stream",
     "text": [
      "<class 'pandas.core.frame.DataFrame'>\n",
      "Index: 10849 entries, 0 to 10883\n",
      "Data columns (total 4 columns):\n",
      " #   Column    Non-Null Count  Dtype   \n",
      "---  ------    --------------  -----   \n",
      " 0   filename  10849 non-null  object  \n",
      " 1   text      10849 non-null  object  \n",
      " 2   label     10849 non-null  category\n",
      " 3   label_id  10849 non-null  category\n",
      "dtypes: category(2), object(2)\n",
      "memory usage: 276.9+ KB\n"
     ]
    }
   ],
   "source": [
    "train_dataset.info()"
   ],
   "metadata": {
    "collapsed": false
   }
  },
  {
   "cell_type": "markdown",
   "source": [
    "## Labels number"
   ],
   "metadata": {
    "collapsed": false
   }
  },
  {
   "cell_type": "code",
   "execution_count": 34,
   "outputs": [
    {
     "name": "stdout",
     "output_type": "stream",
     "text": [
      "21\n"
     ]
    }
   ],
   "source": [
    "print(len(train_dataset[\"label\"].unique()))"
   ],
   "metadata": {
    "collapsed": false
   }
  },
  {
   "cell_type": "markdown",
   "source": [
    "## Language Split"
   ],
   "metadata": {
    "collapsed": false
   }
  },
  {
   "cell_type": "code",
   "execution_count": 35,
   "outputs": [],
   "source": [
    "import string"
   ],
   "metadata": {
    "collapsed": false
   }
  },
  {
   "cell_type": "code",
   "execution_count": 36,
   "outputs": [
    {
     "data": {
      "text/plain": "                                        filename   \n10879  8a1bb716-156c-4eca-a8cd-f726a5cf7032.tiff  \\\n10880  e42169d6-f1c4-416a-a7eb-4fc90fd3c086.tiff   \n10881  9807fe93-30d5-422b-8844-fd16529c8e7d.tiff   \n10882  e7eac2d5-364d-4f82-bb9d-354f11159a51.tiff   \n10883  143d2d22-378e-4595-a0e4-a4d02f60ec3a.tiff   \n\n                                                    text          label   \n10879  msds z ello arte-vewaa were hkc hm c izod rory...  specification  \\\n10880  june appearance colorless clear mobile liquid ...  specification   \n10881  pull mailfile request to bagby rjr july for a ...           form   \n10882  tclecen saj co z rh cam bt meaured ja approval...    handwritten   \n10883  oy stat ed mey fot postu firtt licd ncicc is i...  advertisement   \n\n      label_id  \n10879       17  \n10880       17  \n10881        4  \n10882        5  \n10883        0  ",
      "text/html": "<div>\n<style scoped>\n    .dataframe tbody tr th:only-of-type {\n        vertical-align: middle;\n    }\n\n    .dataframe tbody tr th {\n        vertical-align: top;\n    }\n\n    .dataframe thead th {\n        text-align: right;\n    }\n</style>\n<table border=\"1\" class=\"dataframe\">\n  <thead>\n    <tr style=\"text-align: right;\">\n      <th></th>\n      <th>filename</th>\n      <th>text</th>\n      <th>label</th>\n      <th>label_id</th>\n    </tr>\n  </thead>\n  <tbody>\n    <tr>\n      <th>10879</th>\n      <td>8a1bb716-156c-4eca-a8cd-f726a5cf7032.tiff</td>\n      <td>msds z ello arte-vewaa were hkc hm c izod rory...</td>\n      <td>specification</td>\n      <td>17</td>\n    </tr>\n    <tr>\n      <th>10880</th>\n      <td>e42169d6-f1c4-416a-a7eb-4fc90fd3c086.tiff</td>\n      <td>june appearance colorless clear mobile liquid ...</td>\n      <td>specification</td>\n      <td>17</td>\n    </tr>\n    <tr>\n      <th>10881</th>\n      <td>9807fe93-30d5-422b-8844-fd16529c8e7d.tiff</td>\n      <td>pull mailfile request to bagby rjr july for a ...</td>\n      <td>form</td>\n      <td>4</td>\n    </tr>\n    <tr>\n      <th>10882</th>\n      <td>e7eac2d5-364d-4f82-bb9d-354f11159a51.tiff</td>\n      <td>tclecen saj co z rh cam bt meaured ja approval...</td>\n      <td>handwritten</td>\n      <td>5</td>\n    </tr>\n    <tr>\n      <th>10883</th>\n      <td>143d2d22-378e-4595-a0e4-a4d02f60ec3a.tiff</td>\n      <td>oy stat ed mey fot postu firtt licd ncicc is i...</td>\n      <td>advertisement</td>\n      <td>0</td>\n    </tr>\n  </tbody>\n</table>\n</div>"
     },
     "execution_count": 36,
     "metadata": {},
     "output_type": "execute_result"
    }
   ],
   "source": [
    "def tokenize(text: str):\n",
    "    text = text.lower()\n",
    "\n",
    "    punctuation = set(string.punctuation) - {\"-\"}\n",
    "    for punctuation_mark in punctuation:\n",
    "        text = text.replace(punctuation_mark, \"\")\n",
    "    text = \"\".join(c for c in text if not c.isdigit())\n",
    "\n",
    "    word_list = [word.strip().strip(\"-\") for word in text.split()]\n",
    "    word_list = [word for word in word_list if word]\n",
    "    return \" \".join(word_list)\n",
    "\n",
    "train_dataset[\"text\"] = train_dataset[\"text\"].apply(tokenize)\n",
    "train_dataset.tail()"
   ],
   "metadata": {
    "collapsed": false
   }
  },
  {
   "cell_type": "code",
   "execution_count": 37,
   "outputs": [
    {
     "name": "stdout",
     "output_type": "stream",
     "text": [
      "Mean number of characters: 1023.0436906627339\n",
      "Mean number of words: 154.70946631025902\n"
     ]
    }
   ],
   "source": [
    "print(\"Mean number of characters:\", train_dataset[\"text\"].apply(lambda s: len(s)).mean())\n",
    "print(\"Mean number of words:\", train_dataset[\"text\"].apply(lambda s: len(s.split())).mean())"
   ],
   "metadata": {
    "collapsed": false
   }
  },
  {
   "cell_type": "code",
   "execution_count": 38,
   "outputs": [],
   "source": [
    "train_dataset.to_csv(\"train_input_data_pl_and_eng.csv\", index=False)\n",
    "first_english_index = train_dataset[\"filename\"].to_list().index(\"a64b06e6-8f0a-4fd7-ba12-0779c5560d9a.tiff\")\n",
    "train_dataset_pl = train_dataset.iloc[:first_english_index]\n",
    "train_dataset_eng = train_dataset.iloc[first_english_index:]"
   ],
   "metadata": {
    "collapsed": false
   }
  },
  {
   "cell_type": "code",
   "execution_count": 39,
   "outputs": [],
   "source": [
    "train_dataset_pl.to_csv(\"train_input_data_pl.csv\", index=False)\n",
    "train_dataset_eng.to_csv(\"train_input_data_eng.csv\", index=False)"
   ],
   "metadata": {
    "collapsed": false
   }
  },
  {
   "cell_type": "code",
   "execution_count": 40,
   "outputs": [
    {
     "name": "stdout",
     "output_type": "stream",
     "text": [
      "Polish language in training dataset 0.16914001290441516\n"
     ]
    }
   ],
   "source": [
    "print(\"Polish language in training dataset\", train_dataset_pl.shape[0] / train_dataset.shape[0])"
   ],
   "metadata": {
    "collapsed": false
   }
  },
  {
   "cell_type": "code",
   "execution_count": 33,
   "outputs": [],
   "source": [],
   "metadata": {
    "collapsed": false
   }
  }
 ],
 "metadata": {
  "kernelspec": {
   "display_name": "Python 3",
   "language": "python",
   "name": "python3"
  },
  "language_info": {
   "codemirror_mode": {
    "name": "ipython",
    "version": 2
   },
   "file_extension": ".py",
   "mimetype": "text/x-python",
   "name": "python",
   "nbconvert_exporter": "python",
   "pygments_lexer": "ipython2",
   "version": "2.7.6"
  }
 },
 "nbformat": 4,
 "nbformat_minor": 0
}
