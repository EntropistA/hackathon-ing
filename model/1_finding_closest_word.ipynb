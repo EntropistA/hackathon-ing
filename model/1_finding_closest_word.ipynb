{
 "cells": [
  {
   "cell_type": "code",
   "execution_count": 1,
   "metadata": {
    "collapsed": true
   },
   "outputs": [
    {
     "name": "stdout",
     "output_type": "stream",
     "text": [
      "Loaded dictionary in:  8.827191829681396\n"
     ]
    }
   ],
   "source": [
    "import time\n",
    "import functools\n",
    "\n",
    "import pandas as pd\n",
    "import pkg_resources\n",
    "from symspellpy import SymSpell, Verbosity\n",
    "\n",
    "# http://www.ravi.io/language-word-lengths\n",
    "\n",
    "MAX_DICT_DISTANCE = 5\n",
    "\n",
    "start = time.time()\n",
    "sym_spell = SymSpell(max_dictionary_edit_distance=MAX_DICT_DISTANCE, prefix_length=7)\n",
    "dictionary_path = pkg_resources.resource_filename(\n",
    "    \"symspellpy\", \"frequency_dictionary_en_82_765.txt\"\n",
    ")\n",
    "sym_spell.load_dictionary(dictionary_path, term_index=0, count_index=1)\n",
    "print(\"Loaded dictionary in: \", time.time() - start)\n",
    "\n",
    "\n",
    "def find_closest_sentence(sentence):\n",
    "    new_sentence = []\n",
    "    sentence = str(sentence)\n",
    "    for word in sentence.split():\n",
    "        closest_word = find_closest_word(word)\n",
    "        if closest_word:\n",
    "            new_sentence.append(closest_word)\n",
    "    return \" \".join(new_sentence)\n",
    "\n",
    "@functools.lru_cache(maxsize=None)\n",
    "def find_closest_word(word):\n",
    "    max_edit_distance = min(len(word) // 3, MAX_DICT_DISTANCE)\n",
    "\n",
    "    suggestion_list = sym_spell.lookup(\n",
    "        word, Verbosity.TOP, max_edit_distance=max_edit_distance\n",
    "    )\n",
    "\n",
    "    if len(suggestion_list) == 1:\n",
    "        suggestion = suggestion_list[0]\n",
    "        return suggestion.term\n",
    "    # return word\n",
    "    return \"\"\n",
    "\n",
    "df = pd.read_csv(\"../data_exploration/train_input_data_eng.csv\", dtype=str)\n",
    "df[\"text\"] = df[\"text\"].apply(find_closest_sentence)"
   ]
  },
  {
   "cell_type": "code",
   "execution_count": 2,
   "outputs": [],
   "source": [
    "df = df.dropna()\n",
    "df.to_csv(\"train_input_data_eng_after_spell_correction_only_found.csv\", index=False)"
   ],
   "metadata": {
    "collapsed": false
   }
  },
  {
   "cell_type": "code",
   "execution_count": 3,
   "outputs": [
    {
     "data": {
      "text/plain": "CacheInfo(hits=993784, misses=366311, maxsize=None, currsize=366311)"
     },
     "execution_count": 3,
     "metadata": {},
     "output_type": "execute_result"
    }
   ],
   "source": [
    "find_closest_word.cache_info()"
   ],
   "metadata": {
    "collapsed": false
   }
  },
  {
   "cell_type": "code",
   "execution_count": null,
   "outputs": [],
   "source": [],
   "metadata": {
    "collapsed": false
   }
  }
 ],
 "metadata": {
  "kernelspec": {
   "display_name": "Python 3",
   "language": "python",
   "name": "python3"
  },
  "language_info": {
   "codemirror_mode": {
    "name": "ipython",
    "version": 2
   },
   "file_extension": ".py",
   "mimetype": "text/x-python",
   "name": "python",
   "nbconvert_exporter": "python",
   "pygments_lexer": "ipython2",
   "version": "2.7.6"
  }
 },
 "nbformat": 4,
 "nbformat_minor": 0
}
