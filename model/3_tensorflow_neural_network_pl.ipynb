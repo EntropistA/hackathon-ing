{
 "cells": [
  {
   "cell_type": "code",
   "execution_count": 1,
   "outputs": [
    {
     "name": "stdout",
     "output_type": "stream",
     "text": [
      "1835\n"
     ]
    }
   ],
   "source": [
    "from sklearn.model_selection import train_test_split\n",
    "import pandas as pd\n",
    "\n",
    "df = pd.read_csv(\"train_input_data_pl.csv\")\n",
    "print(df.shape[0])\n",
    "df = df.dropna()\n",
    "df['words_count'] = df[\"text\"].apply(lambda text: len(text.split()))\n",
    "\n",
    "# x_columns = [\"text\", \"words_count\"]\n",
    "# y_columns = [\"label\", \"label_id\"]\n",
    "x_columns = \"text\"\n",
    "y_columns = \"label_id\"\n",
    "x, y = df[x_columns], df[y_columns]\n",
    "x_train, x_test, y_train, y_test = train_test_split(x, y, random_state=4, stratify=y)\n",
    "\n",
    "training = pd.concat([x_train, y_train], axis=1)\n",
    "testing = pd.concat([x_test, y_test], axis=1)"
   ],
   "metadata": {
    "collapsed": false
   }
  },
  {
   "cell_type": "code",
   "execution_count": 2,
   "outputs": [
    {
     "data": {
      "text/plain": "                                                   text  label_id\n1062  colowierzchy kingdoj fennig goluchow krolewska...        18\n337   drukowanyn literami czarnym lub nieb eskim kol...        10\n653   iurkiv sefil krasvikoea bigalrillmloti powiato...        11\n284   etn alal dhuowal utlaam kolorll pitaxpl poua m...        10\n1171  umowa dzielo kielbasiu zawarta dniu abdulvosit...        19\n...                                                 ...       ...\n1774  umowa sprzedazy samochodu lad zwar dniu garbcz...        20\n595   sschab biaioglotskz pawlowsk crabarka kowalska...        11\n1556  emowa sprzedaży samochodu zawara dniu dzwinia€...        20\n1412  umowa dzfio kukawka zawarta dniu zaboronek arp...        19\n893   jx inuarko od na odleglosc na podstawie art us...        18\n\n[1376 rows x 2 columns]",
      "text/html": "<div>\n<style scoped>\n    .dataframe tbody tr th:only-of-type {\n        vertical-align: middle;\n    }\n\n    .dataframe tbody tr th {\n        vertical-align: top;\n    }\n\n    .dataframe thead th {\n        text-align: right;\n    }\n</style>\n<table border=\"1\" class=\"dataframe\">\n  <thead>\n    <tr style=\"text-align: right;\">\n      <th></th>\n      <th>text</th>\n      <th>label_id</th>\n    </tr>\n  </thead>\n  <tbody>\n    <tr>\n      <th>1062</th>\n      <td>colowierzchy kingdoj fennig goluchow krolewska...</td>\n      <td>18</td>\n    </tr>\n    <tr>\n      <th>337</th>\n      <td>drukowanyn literami czarnym lub nieb eskim kol...</td>\n      <td>10</td>\n    </tr>\n    <tr>\n      <th>653</th>\n      <td>iurkiv sefil krasvikoea bigalrillmloti powiato...</td>\n      <td>11</td>\n    </tr>\n    <tr>\n      <th>284</th>\n      <td>etn alal dhuowal utlaam kolorll pitaxpl poua m...</td>\n      <td>10</td>\n    </tr>\n    <tr>\n      <th>1171</th>\n      <td>umowa dzielo kielbasiu zawarta dniu abdulvosit...</td>\n      <td>19</td>\n    </tr>\n    <tr>\n      <th>...</th>\n      <td>...</td>\n      <td>...</td>\n    </tr>\n    <tr>\n      <th>1774</th>\n      <td>umowa sprzedazy samochodu lad zwar dniu garbcz...</td>\n      <td>20</td>\n    </tr>\n    <tr>\n      <th>595</th>\n      <td>sschab biaioglotskz pawlowsk crabarka kowalska...</td>\n      <td>11</td>\n    </tr>\n    <tr>\n      <th>1556</th>\n      <td>emowa sprzedaży samochodu zawara dniu dzwinia€...</td>\n      <td>20</td>\n    </tr>\n    <tr>\n      <th>1412</th>\n      <td>umowa dzfio kukawka zawarta dniu zaboronek arp...</td>\n      <td>19</td>\n    </tr>\n    <tr>\n      <th>893</th>\n      <td>jx inuarko od na odleglosc na podstawie art us...</td>\n      <td>18</td>\n    </tr>\n  </tbody>\n</table>\n<p>1376 rows × 2 columns</p>\n</div>"
     },
     "execution_count": 2,
     "metadata": {},
     "output_type": "execute_result"
    }
   ],
   "source": [
    "training"
   ],
   "metadata": {
    "collapsed": false
   }
  },
  {
   "cell_type": "code",
   "execution_count": 3,
   "outputs": [
    {
     "data": {
      "text/plain": "                                                   text  label_id\n1570  uiuwa sprzedaży w dniu wark aiied ali pomiędzy...        20\n895   sansaneesjegireva iax inaeko konunruta mrjscou...        18\n635   senchank kozlotsk afysock sodvom h powiatowy i...        11\n947   procopie ishtriakov bereznica wyzua zytnia ada...        18\n977   moczyly miatwej sebeszuk bauska nizna gornosla...        18\n...                                                 ...       ...\n1733  umowa sprzedaży samochodu pomiędzy zawarta w d...        20\n731   van lan lai lami szczejkowice j kruteczek fran...        18\n1797  umowa sprzfdazy samochodu kocicrz pomiedzy zaw...        20\n1364  vmowa odzieło dniu pomiędzy qhochu darki swicm...        19\n1714  umowa sprzedaży samochodu sam sonw ciagle pomi...        20\n\n[459 rows x 2 columns]",
      "text/html": "<div>\n<style scoped>\n    .dataframe tbody tr th:only-of-type {\n        vertical-align: middle;\n    }\n\n    .dataframe tbody tr th {\n        vertical-align: top;\n    }\n\n    .dataframe thead th {\n        text-align: right;\n    }\n</style>\n<table border=\"1\" class=\"dataframe\">\n  <thead>\n    <tr style=\"text-align: right;\">\n      <th></th>\n      <th>text</th>\n      <th>label_id</th>\n    </tr>\n  </thead>\n  <tbody>\n    <tr>\n      <th>1570</th>\n      <td>uiuwa sprzedaży w dniu wark aiied ali pomiędzy...</td>\n      <td>20</td>\n    </tr>\n    <tr>\n      <th>895</th>\n      <td>sansaneesjegireva iax inaeko konunruta mrjscou...</td>\n      <td>18</td>\n    </tr>\n    <tr>\n      <th>635</th>\n      <td>senchank kozlotsk afysock sodvom h powiatowy i...</td>\n      <td>11</td>\n    </tr>\n    <tr>\n      <th>947</th>\n      <td>procopie ishtriakov bereznica wyzua zytnia ada...</td>\n      <td>18</td>\n    </tr>\n    <tr>\n      <th>977</th>\n      <td>moczyly miatwej sebeszuk bauska nizna gornosla...</td>\n      <td>18</td>\n    </tr>\n    <tr>\n      <th>...</th>\n      <td>...</td>\n      <td>...</td>\n    </tr>\n    <tr>\n      <th>1733</th>\n      <td>umowa sprzedaży samochodu pomiędzy zawarta w d...</td>\n      <td>20</td>\n    </tr>\n    <tr>\n      <th>731</th>\n      <td>van lan lai lami szczejkowice j kruteczek fran...</td>\n      <td>18</td>\n    </tr>\n    <tr>\n      <th>1797</th>\n      <td>umowa sprzfdazy samochodu kocicrz pomiedzy zaw...</td>\n      <td>20</td>\n    </tr>\n    <tr>\n      <th>1364</th>\n      <td>vmowa odzieło dniu pomiędzy qhochu darki swicm...</td>\n      <td>19</td>\n    </tr>\n    <tr>\n      <th>1714</th>\n      <td>umowa sprzedaży samochodu sam sonw ciagle pomi...</td>\n      <td>20</td>\n    </tr>\n  </tbody>\n</table>\n<p>459 rows × 2 columns</p>\n</div>"
     },
     "execution_count": 3,
     "metadata": {},
     "output_type": "execute_result"
    }
   ],
   "source": [
    "testing"
   ],
   "metadata": {
    "collapsed": false
   }
  },
  {
   "cell_type": "markdown",
   "source": [
    "# Tokenization"
   ],
   "metadata": {
    "collapsed": false
   }
  },
  {
   "cell_type": "code",
   "execution_count": 4,
   "outputs": [],
   "source": [
    "import tensorflow as tf\n",
    "from tensorflow import keras\n",
    "from tensorflow.keras.preprocessing.text import Tokenizer\n",
    "from tensorflow.keras.preprocessing.sequence import pad_sequences"
   ],
   "metadata": {
    "collapsed": false
   }
  },
  {
   "cell_type": "code",
   "execution_count": 5,
   "metadata": {
    "collapsed": true
   },
   "outputs": [],
   "source": [
    "training_sentences = x_train.to_list()\n",
    "\n",
    "LABEL_N = 21\n",
    "\n",
    "# First approach\n",
    "# LEARNING_RATE = 0.01\n",
    "# VOCAB_SIZE = 10_000\n",
    "# EMBEDDING_DIM = 16\n",
    "# DENSE_LAYER_COUNT = 128\n",
    "# max_length = 600\n",
    "# trunc_type='post'\n",
    "# padding_type='post'\n",
    "\n",
    "def pad(sequences):\n",
    "    return pad_sequences(sequences, maxlen=max_length, padding=padding_type, truncating=trunc_type)\n",
    "\n",
    "# Optimized\n",
    "LEARNING_RATE = 0.005\n",
    "VOCAB_SIZE = 2_000\n",
    "EMBEDDING_DIM = 128 # 16\n",
    "DENSE_LAYER_COUNT = 128\n",
    "max_length = 400\n",
    "trunc_type='post'\n",
    "padding_type='post'\n",
    "\n",
    "tokenizer = Tokenizer(num_words=VOCAB_SIZE, oov_token=\"<OOV>\")\n",
    "tokenizer.fit_on_texts(training_sentences)\n",
    "# print(tokenizer.word_index)"
   ]
  },
  {
   "cell_type": "code",
   "execution_count": 6,
   "outputs": [],
   "source": [
    "training_sequences = tokenizer.texts_to_sequences(training_sentences)\n",
    "training_padded = pad(training_sequences)\n",
    "# training_padded"
   ],
   "metadata": {
    "collapsed": false
   }
  },
  {
   "cell_type": "code",
   "execution_count": 7,
   "outputs": [],
   "source": [
    "testing_sentences = x_test.to_list()\n",
    "testing_sequences = tokenizer.texts_to_sequences(testing_sentences)\n",
    "testing_padded = pad(testing_sequences)\n",
    "# testing_padded"
   ],
   "metadata": {
    "collapsed": false
   }
  },
  {
   "cell_type": "code",
   "execution_count": 8,
   "outputs": [],
   "source": [
    "import numpy as np\n",
    "def create_all_categories_columns(input_array: np.array):\n",
    "    result = np.zeros(shape=(input_array.shape[0], LABEL_N), dtype=int)\n",
    "    result[np.arange(0, input_array.shape[0]), input_array] = 1\n",
    "    return result"
   ],
   "metadata": {
    "collapsed": false
   }
  },
  {
   "cell_type": "code",
   "execution_count": 9,
   "outputs": [],
   "source": [
    "training_padded = np.array(training_padded)\n",
    "training_labels = create_all_categories_columns(np.array(y_train))\n",
    "testing_padded = np.array(testing_padded)\n",
    "testing_labels = create_all_categories_columns(np.array(y_test))"
   ],
   "metadata": {
    "collapsed": false
   }
  },
  {
   "cell_type": "code",
   "execution_count": 10,
   "outputs": [],
   "source": [
    "from keras.layers import Dense, Embedding, LSTM, SpatialDropout1D\n",
    "from keras.models import Sequential"
   ],
   "metadata": {
    "collapsed": false
   }
  },
  {
   "cell_type": "code",
   "execution_count": 11,
   "outputs": [],
   "source": [
    "# model = Sequential()\n",
    "# model.add(Embedding(VOCAB_SIZE, EMBEDDING_DIM, input_length=training_padded.shape[1]))\n",
    "# model.add(SpatialDropout1D(0.7))\n",
    "# model.add(LSTM(64, dropout=0.7, recurrent_dropout=0.7))\n",
    "# model.add(Dense(20, activation='softmax'))\n",
    "# model.compile(optimizer='adam', loss='categorical_crossentropy', metrics=['accuracy'])\n",
    "# print(model.summary())\n",
    "# training = model.fit(training_padded, training_labels, epochs=1_00, batch_size=256, validation_split=0.2)"
   ],
   "metadata": {
    "collapsed": false
   }
  },
  {
   "cell_type": "code",
   "execution_count": 12,
   "outputs": [
    {
     "name": "stdout",
     "output_type": "stream",
     "text": [
      "Model: \"sequential\"\n",
      "_________________________________________________________________\n",
      " Layer (type)                Output Shape              Param #   \n",
      "=================================================================\n",
      " embedding (Embedding)       (None, None, 128)         256000    \n",
      "                                                                 \n",
      " global_average_pooling1d (G  (None, 128)              0         \n",
      " lobalAveragePooling1D)                                          \n",
      "                                                                 \n",
      " dense (Dense)               (None, 128)               16512     \n",
      "                                                                 \n",
      " dense_1 (Dense)             (None, 21)                2709      \n",
      "                                                                 \n",
      "=================================================================\n",
      "Total params: 275,221\n",
      "Trainable params: 275,221\n",
      "Non-trainable params: 0\n",
      "_________________________________________________________________\n"
     ]
    }
   ],
   "source": [
    "model = tf.keras.Sequential([\n",
    "        tf.keras.layers.Embedding(VOCAB_SIZE, EMBEDDING_DIM),\n",
    "        tf.keras.layers.GlobalAveragePooling1D(),\n",
    "        tf.keras.layers.Dense(DENSE_LAYER_COUNT, activation=\"relu\"),\n",
    "        tf.keras.layers.Dense(LABEL_N, activation='softmax'),\n",
    "])\n",
    "adam = tf.keras.optimizers.Adam(learning_rate=LEARNING_RATE, beta_1=0.9, beta_2=0.999, amsgrad=False)\n",
    "model.compile(loss=\"categorical_crossentropy\", optimizer=adam, metrics=['accuracy'])\n",
    "\n",
    "model.summary()"
   ],
   "metadata": {
    "collapsed": false
   }
  },
  {
   "cell_type": "code",
   "execution_count": 13,
   "outputs": [
    {
     "name": "stdout",
     "output_type": "stream",
     "text": [
      "Epoch 1/10\n",
      "43/43 - 1s - loss: 1.3194 - accuracy: 0.6221 - val_loss: 0.4352 - val_accuracy: 0.9477 - 1s/epoch - 34ms/step\n",
      "Epoch 2/10\n",
      "43/43 - 0s - loss: 0.1406 - accuracy: 0.9862 - val_loss: 0.0317 - val_accuracy: 1.0000 - 358ms/epoch - 8ms/step\n",
      "Epoch 3/10\n",
      "43/43 - 0s - loss: 0.0169 - accuracy: 0.9993 - val_loss: 0.0146 - val_accuracy: 1.0000 - 365ms/epoch - 8ms/step\n",
      "Epoch 4/10\n",
      "43/43 - 0s - loss: 0.0075 - accuracy: 1.0000 - val_loss: 0.0075 - val_accuracy: 1.0000 - 379ms/epoch - 9ms/step\n",
      "Epoch 5/10\n",
      "43/43 - 0s - loss: 0.0040 - accuracy: 1.0000 - val_loss: 0.0057 - val_accuracy: 1.0000 - 355ms/epoch - 8ms/step\n",
      "Epoch 6/10\n",
      "43/43 - 0s - loss: 0.0027 - accuracy: 1.0000 - val_loss: 0.0036 - val_accuracy: 1.0000 - 382ms/epoch - 9ms/step\n",
      "Epoch 7/10\n",
      "43/43 - 0s - loss: 0.0021 - accuracy: 1.0000 - val_loss: 0.0037 - val_accuracy: 1.0000 - 372ms/epoch - 9ms/step\n",
      "Epoch 8/10\n",
      "43/43 - 0s - loss: 0.0014 - accuracy: 1.0000 - val_loss: 0.0028 - val_accuracy: 1.0000 - 355ms/epoch - 8ms/step\n",
      "Epoch 9/10\n",
      "43/43 - 0s - loss: 0.0011 - accuracy: 1.0000 - val_loss: 0.0022 - val_accuracy: 1.0000 - 370ms/epoch - 9ms/step\n",
      "Epoch 10/10\n",
      "43/43 - 0s - loss: 8.0680e-04 - accuracy: 1.0000 - val_loss: 0.0021 - val_accuracy: 1.0000 - 372ms/epoch - 9ms/step\n"
     ]
    }
   ],
   "source": [
    "num_epochs = 10\n",
    "history = model.fit(training_padded, training_labels, epochs=num_epochs, validation_data=(testing_padded, testing_labels), verbose=2)"
   ],
   "metadata": {
    "collapsed": false
   }
  },
  {
   "cell_type": "code",
   "execution_count": 14,
   "outputs": [],
   "source": [
    "def get_model_prediction(text):\n",
    "    text_representation = np.array(\n",
    "        pad(\n",
    "            tokenizer.texts_to_sequences(\n",
    "                [text]\n",
    "            )\n",
    "        )\n",
    "    )\n",
    "\n",
    "    prediction = list(model.predict(text_representation)[0])\n",
    "    column = prediction.index(max(prediction))\n",
    "    return column\n",
    "\n",
    "model.model_reader = get_model_prediction\n",
    "model.model_reader"
   ],
   "metadata": {
    "collapsed": false
   }
  },
  {
   "cell_type": "code",
   "execution_count": 16,
   "outputs": [],
   "source": [
    "import pickle\n",
    "pickle.dump(model, open('model_pl.pkl', 'wb'))"
   ],
   "metadata": {
    "collapsed": false
   }
  },
  {
   "cell_type": "code",
   "execution_count": 15,
   "outputs": [],
   "source": [],
   "metadata": {
    "collapsed": false
   }
  }
 ],
 "metadata": {
  "kernelspec": {
   "display_name": "Python 3",
   "language": "python",
   "name": "python3"
  },
  "language_info": {
   "codemirror_mode": {
    "name": "ipython",
    "version": 2
   },
   "file_extension": ".py",
   "mimetype": "text/x-python",
   "name": "python",
   "nbconvert_exporter": "python",
   "pygments_lexer": "ipython2",
   "version": "2.7.6"
  }
 },
 "nbformat": 4,
 "nbformat_minor": 0
}
